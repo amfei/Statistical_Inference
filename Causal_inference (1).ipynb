{
 "cells": [
  {
   "cell_type": "markdown",
   "metadata": {
    "id": "APzzGuyzDBHa"
   },
   "source": [
    "### **Causal inference** is the process of determining whether one variable (often called the \"treatment\" or \"cause\") **directly affects another variable** (the \"outcome\" or \"effect\"). This is different from **correlation**, which simply measures whether two variables **move together**, without implying that one causes the other.\n",
    "\n",
    "####Example: The Effect of Studying on Exam Scores\n",
    "####Imagine you're a student trying to figure out if studying more hours leads to better exam scores. Here's how you might approach this question using causal inference:\n",
    "\n",
    "Treatment (Cause): Number of hours spent studying.\n",
    "Outcome (Effect): Exam score.\n",
    "Confounders: Other variables that might affect both studying and exam scores (e.g., previous knowledge, hours of sleep, access to study materials).\n",
    "\n",
    "\n",
    "\n"
   ]
  },
  {
   "cell_type": "markdown",
   "metadata": {
    "id": "oUFaSFbjFfe7"
   },
   "source": [
    "#### There are various methods for causal inference, including **randomized controlled trials (RCTs)**, **instrumental variables (IV), propensity score matching**, and more recently, methods using g**raphical models and machine learning.**\n",
    "\n",
    "### I'll demonstrate a simple example of causal inference using the **DoWhy** library, which is designed for causal analysis. DoWhy provides a straightforward way to specify causal models and perform causal inference."
   ]
  },
  {
   "cell_type": "markdown",
   "metadata": {
    "id": "av8ksMsDGCE-"
   },
   "source": [
    "\n",
    "### **Propensity Score:** The probability of a unit (e.g., a customer) receiving the treatment given their observed characteristics.\n",
    "\n",
    "## Problem: **Estimating the Effect of a** Loyalty Program **on** Insurance Claims\n",
    "### Suppose an insurance company wants to estimate the effect of enrolling customers in a loyalty program on the number of insurance claims they file. Since customers are not randomly assigned to the loyalty program, there may be **confounding variables** that influence both the enrollment and the outcome (e.g., age, income, past claims history).\n",
    "\n",
    "Steps for Propensity Score Application\n",
    "\n",
    "**1. Data Preparation:** Create a dataset with treatment, outcome, and covariates.\n",
    "\n",
    "**2. Propensity Score Estimation:** Estimate the probability of treatment assignment based on observed covariates.\n",
    "\n",
    "**3. Matching/Weighting/Stratification:** Use propensity scores to balance the treatment and control groups.\n",
    "\n",
    "**4. Outcome Analysis:** Compare the outcomes between the balanced groups to estimate the treatment effect.\n",
    "\n"
   ]
  },
  {
   "cell_type": "code",
   "execution_count": 1,
   "metadata": {
    "id": "my-844AEER8G"
   },
   "outputs": [
    {
     "name": "stdout",
     "output_type": "stream",
     "text": [
      "   age        income  past_claims  loyalty_program  num_claims\n",
      "0   56  33935.536797            4                0    1.705404\n",
      "1   69  52034.636359            1                1    0.000000\n",
      "2   46  42436.492547            3                1    1.095021\n",
      "3   32  35777.462904            4                0    0.000000\n",
      "4   60  43534.271158            3                1    0.000000\n"
     ]
    }
   ],
   "source": [
    "import numpy as np\n",
    "import pandas as pd\n",
    "\n",
    "# Seed for reproducibility\n",
    "np.random.seed(42)\n",
    "\n",
    "# Generate synthetic data\n",
    "num_samples = 1000\n",
    "data = {\n",
    "    'age': np.random.randint(18, 70, size=num_samples),\n",
    "    'income': np.random.normal(50000, 10000, size=num_samples),\n",
    "    'past_claims': np.random.randint(0, 5, size=num_samples),\n",
    "    'loyalty_program': np.random.binomial(1, 0.3, size=num_samples),  # 30% in loyalty program\n",
    "}\n",
    "\n",
    "df = pd.DataFrame(data)\n",
    "\n",
    "# Introduce a causal relationship\n",
    "df['num_claims'] = df['loyalty_program'] * -0.5 + df['past_claims'] * 0.3 + np.random.normal(0, 1, num_samples)\n",
    "df['num_claims'] = df['num_claims'].apply(lambda x: max(x, 0))  # Ensure non-negative claims\n",
    "\n",
    "# Display the first few rows of the dataset\n",
    "print(df.head())\n"
   ]
  },
  {
   "cell_type": "markdown",
   "metadata": {
    "id": "rXwt8UmVLFNi"
   },
   "source": [
    "### **Matching:** Treated units (enrolled in the loyalty program) are matched with control units (not enrolled) based on their propensity scores using nearest neighbor matching.\n",
    "\n",
    "### Matching is a method to pair each treated unit with one or more control units that have similar propensity scores. This aims to balance the distribution of observed covariates between the treated and control groups, reducing the bias due to confounding variables.\n",
    "\n",
    "### Nearest Neighbor Matching: Each treated unit is matched with the closest control unit(s) based on the propensity score. In this example, we use 1-to-1 nearest neighbor matching.\n",
    "\n",
    "### In observational studies, like our insurance, the treatment (enrollment in a loyalty program) is not randomly assigned. This can lead to biased estimates of the treatment effect because the treated and untreated groups might differ in ways that also affect the outcome (number of claims). Matching helps to make these groups comparable.\n",
    "\n",
    "### How do we do Matching?\n",
    "### We use propensity scores, which are the **estimated probabilities that a customer will be in the loyalty program based on their characteristics** (age, income, past claims). We then match each treated customer with one or more control customers who have similar propensity scores.\n",
    "\n",
    "### Steps in Matching :\n",
    "\n",
    "**Estimate Propensity Scores:** Use logistic regression to calculate the probability of each customer being in the loyalty program based on their age, income, and past claims.\n",
    "\n",
    "**Find Matches:** For each customer in the loyalty program (treated), find a customer not in the program (control) with a similar propensity score. This is like finding \"twins\" based on the probability of receiving the treatment.\n",
    "\n",
    "**Create Matched Dataset:** Combine the treated customers and their matched controls into a new dataset that will be used for analysis.\n",
    "\n"
   ]
  },
  {
   "cell_type": "code",
   "execution_count": 2,
   "metadata": {
    "id": "5_BrSZhq62m3"
   },
   "outputs": [
    {
     "name": "stdout",
     "output_type": "stream",
     "text": [
      "   age        income  past_claims  loyalty_program  num_claims  \\\n",
      "0   56  33935.536797            4                0    1.705404   \n",
      "1   69  52034.636359            1                1    0.000000   \n",
      "2   46  42436.492547            3                1    1.095021   \n",
      "3   32  35777.462904            4                0    0.000000   \n",
      "4   60  43534.271158            3                1    0.000000   \n",
      "\n",
      "   propensity_score  \n",
      "0          0.367947  \n",
      "1          0.303733  \n",
      "2          0.337029  \n",
      "3          0.361145  \n",
      "4          0.333129  \n"
     ]
    }
   ],
   "source": [
    "\n",
    "from sklearn.linear_model import LogisticRegression\n",
    "\n",
    "# Define features and treatment\n",
    "X = df[['age', 'income', 'past_claims']]\n",
    "y = df['loyalty_program']\n",
    "\n",
    "# Fit logistic regression to estimate propensity scores\n",
    "logistic = LogisticRegression()\n",
    "logistic.fit(X, y)\n",
    "\n",
    "# Predict propensity scores\n",
    "df['propensity_score'] = logistic.predict_proba(X)[:, 1]\n",
    "\n",
    "# Display the first few rows with propensity scores\n",
    "print(df.head())"
   ]
  },
  {
   "cell_type": "code",
   "execution_count": 3,
   "metadata": {
    "id": "g3fRfsavESC2"
   },
   "outputs": [
    {
     "name": "stdout",
     "output_type": "stream",
     "text": [
      "   age        income  past_claims  loyalty_program  num_claims  \\\n",
      "1   69  52034.636359            1                1    0.000000   \n",
      "2   46  42436.492547            3                1    1.095021   \n",
      "4   60  43534.271158            3                1    0.000000   \n",
      "7   56  58816.397569            2                1    0.633401   \n",
      "8   36  49920.273587            1                1    0.000000   \n",
      "\n",
      "   propensity_score  \n",
      "1          0.303733  \n",
      "2          0.337029  \n",
      "4          0.333129  \n",
      "7          0.281364  \n",
      "8          0.310908  \n"
     ]
    }
   ],
   "source": [
    "from sklearn.neighbors import NearestNeighbors\n",
    "\n",
    "# Separate treated and control groups\n",
    "treated = df[df['loyalty_program'] == 1]\n",
    "control = df[df['loyalty_program'] == 0]\n",
    "\n",
    "# Fit nearest neighbors model\n",
    "nn = NearestNeighbors(n_neighbors=1)\n",
    "nn.fit(control[['propensity_score']])\n",
    "\n",
    "# Find nearest neighbors in the control group for each treated unit\n",
    "distances, indices = nn.kneighbors(treated[['propensity_score']])\n",
    "\n",
    "# Get matched control units\n",
    "matched_controls = control.iloc[indices.flatten()]\n",
    "\n",
    "# Combine treated and matched control units\n",
    "matched_df = pd.concat([treated, matched_controls])\n",
    "\n",
    "# Display the first few rows of the matched dataset\n",
    "print(matched_df.head())\n"
   ]
  },
  {
   "cell_type": "markdown",
   "metadata": {
    "id": "dcXs8R699HxI"
   },
   "source": [
    "### Average treatment effect (ATE) measures the average effect of a treatment on an outcome variable. There are different methods to estimate the ATE but it is often estimated using sample means as :"
   ]
  },
  {
   "cell_type": "code",
   "execution_count": 4,
   "metadata": {
    "id": "aTsCzVYoESEa"
   },
   "outputs": [
    {
     "name": "stdout",
     "output_type": "stream",
     "text": [
      "Average Treatment Effect (ATE): -0.24684751491563378\n"
     ]
    }
   ],
   "source": [
    "# Calculate average treatment effect\n",
    "ate = matched_df[matched_df['loyalty_program'] == 1]['num_claims'].mean() - \\\n",
    "      matched_df[matched_df['loyalty_program'] == 0]['num_claims'].mean()\n",
    "\n",
    "print(f'Average Treatment Effect (ATE): {ate}')\n"
   ]
  },
  {
   "cell_type": "markdown",
   "metadata": {
    "id": "PXlsHMN7Wau3"
   },
   "source": [
    "### To solve the insurance loyalty claim problem we can also the **DoWhy** library, with thefollowing steps:\n",
    "\n",
    "\n",
    "Causal Model Specification: Define the causal model including treatment, outcome, and confounders.\n",
    "\n",
    "Identify the Causal Effect: Use DoWhy to identify the causal effect.\n",
    "\n",
    "Estimate the Causal Effect: Estimate the causal effect using an appropriate method.\n",
    "\n",
    "Refute the Estimate: Perform robustness checks to ensure the validity of the causal effect"
   ]
  },
  {
   "cell_type": "code",
   "execution_count": 5,
   "metadata": {
    "id": "Hp2S1c6H-UE6"
   },
   "outputs": [],
   "source": [
    "#! pip install dowhy"
   ]
  },
  {
   "cell_type": "code",
   "execution_count": 6,
   "metadata": {
    "id": "FF9mBqSyVcUA"
   },
   "outputs": [
    {
     "data": {
      "image/png": "[encoded data removed]",
      "text/plain": [
       "<Figure size 800x600 with 1 Axes>"
      ]
     },
     "metadata": {},
     "output_type": "display_data"
    }
   ],
   "source": [
    "\n",
    "import dowhy\n",
    "from dowhy import CausalModel\n",
    "\n",
    "# Define the causal model\n",
    "model = CausalModel(\n",
    "    data=df,\n",
    "    treatment='loyalty_program',\n",
    "    outcome='num_claims',\n",
    "    common_causes=['age', 'income', 'past_claims']\n",
    ")\n",
    "\n",
    "# View the model\n",
    "model.view_model()\n"
   ]
  },
  {
   "cell_type": "markdown",
   "metadata": {
    "id": "cfP5zCrzDmgz"
   },
   "source": [
    "Methodology: The estimand is identified using backdoor adjustment (in the first estimand) and instrumental variables (in the second estimand), as indicated by the **backdoor** and **iv** names.\n",
    "\n",
    "\n",
    "Estimand Type: The identified estimand is for the Average Treatment Effect (ATE), which measures the average effect of the treatment on the outcome.\n",
    "\n",
    "Estimand Expression: This describes the mathematical expression used to estimate the causal effect, typically involving conditional expectations or derivatives.\n",
    "\n",
    "Estimand Assumptions: These assumptions specify the conditions under which the identified estimand is valid. For example, unconfoundedness assumes that there are no unobserved confounders affecting both the treatment assignment and the outcome.\n",
    "\n"
   ]
  },
  {
   "cell_type": "code",
   "execution_count": 7,
   "metadata": {
    "id": "crq06kgsVkH4"
   },
   "outputs": [
    {
     "name": "stdout",
     "output_type": "stream",
     "text": [
      "Estimand type: EstimandType.NONPARAMETRIC_ATE\n",
      "\n",
      "### Estimand : 1\n",
      "Estimand name: backdoor\n",
      "Estimand expression:\n",
      "        d                                               \n",
      "──────────────────(E[num_claims|income,age,past_claims])\n",
      "d[loyalty_program]                                      \n",
      "Estimand assumption 1, Unconfoundedness: If U→{loyalty_program} and U→num_claims then P(num_claims|loyalty_program,income,age,past_claims,U) = P(num_claims|loyalty_program,income,age,past_claims)\n",
      "\n",
      "### Estimand : 2\n",
      "Estimand name: iv\n",
      "No such variable(s) found!\n",
      "\n",
      "### Estimand : 3\n",
      "Estimand name: frontdoor\n",
      "No such variable(s) found!\n",
      "\n"
     ]
    }
   ],
   "source": [
    "identified_estimand = model.identify_effect()\n",
    "print(identified_estimand)\n"
   ]
  },
  {
   "cell_type": "markdown",
   "metadata": {
    "id": "oCw8f0IXOwqu"
   },
   "source": [
    "Backdoor Estimand: It shows how the loyalty program might change the number of claims people make, once we think about differences in past claims, income, and age. We have to think about what else could affect both the loyalty program and the number of claims.\n",
    "\n",
    "IV and Frontdoor Estimands: These couldn't be used here because we didn't have good examples of other things that could help us understand how the loyalty program affects the number of claims people make.\n",
    "\n"
   ]
  },
  {
   "cell_type": "markdown",
   "metadata": {
    "id": "LTXS_hHsDk_9"
   },
   "source": []
  },
  {
   "cell_type": "code",
   "execution_count": 8,
   "metadata": {
    "id": "nr-E4RmGESKs"
   },
   "outputs": [
    {
     "name": "stdout",
     "output_type": "stream",
     "text": [
      "*** Causal Estimate ***\n",
      "\n",
      "## Identified estimand\n",
      "Estimand type: EstimandType.NONPARAMETRIC_ATE\n",
      "\n",
      "### Estimand : 1\n",
      "Estimand name: backdoor\n",
      "Estimand expression:\n",
      "        d                                               \n",
      "──────────────────(E[num_claims|income,age,past_claims])\n",
      "d[loyalty_program]                                      \n",
      "Estimand assumption 1, Unconfoundedness: If U→{loyalty_program} and U→num_claims then P(num_claims|loyalty_program,income,age,past_claims,U) = P(num_claims|loyalty_program,income,age,past_claims)\n",
      "\n",
      "## Realized estimand\n",
      "b: num_claims~loyalty_program+income+age+past_claims\n",
      "Target units: ate\n",
      "\n",
      "## Estimate\n",
      "Mean value: -0.2908133591203509\n",
      "\n"
     ]
    }
   ],
   "source": [
    "estimate = model.estimate_effect(\n",
    "    identified_estimand,\n",
    "    method_name=\"backdoor.linear_regression\"\n",
    ")\n",
    "\n",
    "print(estimate)\n"
   ]
  },
  {
   "cell_type": "markdown",
   "metadata": {
    "id": "NCZ5lea_PRQ-"
   },
   "source": [
    "The estimated ATE of joining the loyalty program on the number of claims is approximately -0.291. This suggests that, on average, joining the loyalty program is associated with a decrease in the number of claims. However, be cautious in interpreting the sign of the estimate (- or +) as it depends on how the outcome variable is coded and the direction of the effect being studied."
   ]
  },
  {
   "cell_type": "markdown",
   "metadata": {
    "id": "kH_YeXbidbTN"
   },
   "source": [
    "## **Refutation**: We perform robustness checks to ensure the causal effect is not due to random chance or unobserved confounders."
   ]
  },
  {
   "cell_type": "code",
   "execution_count": 9,
   "metadata": {
    "id": "ItYt25X2WCoB"
   },
   "outputs": [
    {
     "name": "stdout",
     "output_type": "stream",
     "text": [
      "Refute: Use a Placebo Treatment\n",
      "Estimated effect:-0.2908133591203509\n",
      "New effect:0.003572994964809897\n",
      "p value:0.96\n",
      "\n"
     ]
    }
   ],
   "source": [
    "# Refute the causal estimate\n",
    "refutation = model.refute_estimate(\n",
    "    identified_estimand,\n",
    "    estimate,\n",
    "    method_name=\"placebo_treatment_refuter\"\n",
    ")\n",
    "\n",
    "print(refutation)"
   ]
  },
  {
   "cell_type": "markdown",
   "metadata": {
    "id": "y1QyiljaW8nM"
   },
   "source": [
    "### The original estimated effect was -0.2908133591203415, suggesting a negative impact of the treatment.\n",
    "\n",
    "### After applying the placebo refutation, the new estimated effect is very close to zero (0.003572994964809586), which suggests that the observed effect may be due to a placebo effect or random chance.\n",
    "\n",
    "The high p-value of 0.96 further supports that the difference between the original and refuted effects is not statistically significant.\n",
    "\n",
    "## Conclusion:\n",
    "\n",
    "This refutation suggests that the effect of the treatment is not robust against a placebo treatment. The observed effect is likely to be due to a placebo effect or random chance rather than a true causal effect of the treatment."
   ]
  }
 ],
 "metadata": {
  "colab": {
   "private_outputs": true,
   "provenance": []
  },
  "kernelspec": {
   "display_name": "Python 3 (ipykernel)",
   "language": "python",
   "name": "python3"
  },
  "language_info": {
   "codemirror_mode": {
    "name": "ipython",
    "version": 3
   },
   "file_extension": ".py",
   "mimetype": "text/x-python",
   "name": "python",
   "nbconvert_exporter": "python",
   "pygments_lexer": "ipython3",
   "version": "3.11.5"
  }
 },
 "nbformat": 4,
 "nbformat_minor": 1
}
